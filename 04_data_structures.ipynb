{
 "cells": [
  {
   "cell_type": "markdown",
   "metadata": {},
   "source": [
    "# Data Structures\n",
    "\n",
    "Data structures are specialized formats or arrangements used to store, organize, and manage data efficiently. They provide a way to represent and manipulate data to perform various operations efficiently, such as insertion, deletion, retrieval, and searching. Different data structures are designed to serve specific purposes and optimize different types of operations.\n",
    "\n",
    "Here are some commonly used data structures:\n",
    "\n",
    "1. Arrays: Arrays are a basic data structure that stores a fixed-size sequence of elements of the same type. Elements in an array are accessed by their indices, allowing for fast random access. However, the size of an array is fixed once it is created.\n",
    "\n",
    "2. Linked Lists: Linked lists consist of nodes, where each node contains data and a reference (or link) to the next node in the sequence. Linked lists are flexible in size and allow dynamic memory allocation. They are efficient for insertions and deletions at the beginning or end of the list but require traversal to access an arbitrary element.\n",
    "\n",
    "3. Stacks: A stack is a Last-In-First-Out (LIFO) data structure that supports two main operations: push (adding an element to the top) and pop (removing the top element). It follows the \"last in, first out\" principle, similar to a stack of plates.\n",
    "\n",
    "4. Queues: A queue is a First-In-First-Out (FIFO) data structure that supports two primary operations: enqueue (adding an element to the end) and dequeue (removing the front element). It follows the \"first in, first out\" principle, similar to a queue of people waiting in line.\n",
    "\n",
    "5. Trees: Trees are hierarchical data structures composed of nodes connected by edges. They have a root node, internal nodes, and leaf nodes. Trees are used to represent hierarchical relationships between elements. Some types of trees include binary trees, binary search trees, AVL trees, and B-trees.\n",
    "\n",
    "6. Graphs: Graphs are collections of nodes (vertices) connected by edges. They are versatile data structures that represent relationships between elements. Graphs can be directed or undirected and can have weighted or unweighted edges. They are used in various applications, such as social networks, transportation networks, and routing algorithms.\n",
    "\n",
    "7. Hash Tables: Hash tables, also known as hash maps, use a hash function to map keys to values, allowing efficient insertion, deletion, and retrieval. They provide fast access to elements based on their keys and are commonly used to implement dictionaries or associative arrays.\n",
    "\n",
    "8. Heaps: Heaps are complete binary trees that satisfy the heap property. They can be either min-heaps (the smallest element is always at the root) or max-heaps (the largest element is always at the root). Heaps are used for efficient implementation of priority queues and sorting algorithms like heapsort.\n",
    "\n",
    "These are just a few examples of data structures. There are many more specialized data structures, such as hash sets, graphs, tries, and self-balancing trees (e.g., AVL trees, red-black trees), designed to solve specific problems efficiently. Choosing the appropriate data structure depends on the requirements of the problem at hand, the operations to be performed, and the desired time and space complexity."
   ]
  },
  {
   "cell_type": "markdown",
   "metadata": {},
   "source": [
    "![purple-divider](https://user-images.githubusercontent.com/7065401/52071927-c1cd7100-2562-11e9-908a-dde91ba14e59.png)"
   ]
  },
  {
   "cell_type": "markdown",
   "metadata": {},
   "source": [
    "## Lists\n",
    "\n",
    "arrays have a fixed size and provide fast random access to elements, while lists are dynamic and offer efficient insertions and deletions but require traversal to access elements. The choice between using an array or a list depends on the specific requirements of the application and the operations that need to be performed on the collection of elements.\n",
    "\n",
    "An array is a fixed-size data structure that stores elements of the same type in contiguous memory locations. Elements in an array can be accessed using an index. The index provides the position of each element, allowing for fast random access. Arrays have a predetermined size, which is set when the array is created and cannot be changed without creating a new array.\n",
    "\n",
    "On the other hand, a list is a dynamic data structure that represents a sequence of elements. Unlike an array, a list can grow or shrink dynamically as elements are added or removed. Lists are typically implemented as linked lists, where each element (node) contains the value and a reference to the next element. This flexibility allows efficient insertions and deletions at any position in the list. However, accessing an element in a list requires traversing the list from the beginning until the desired position is reached, which is slower compared to random access in an array."
   ]
  },
  {
   "cell_type": "code",
   "execution_count": 40,
   "metadata": {},
   "outputs": [
    {
     "data": {
      "text/plain": [
       "['banana', 'cherry', 'apple']"
      ]
     },
     "execution_count": 40,
     "metadata": {},
     "output_type": "execute_result"
    }
   ],
   "source": [
    "mylist = [\"banana\", \"cherry\", \"apple\"]\n",
    "mylist"
   ]
  },
  {
   "cell_type": "code",
   "execution_count": 41,
   "metadata": {},
   "outputs": [
    {
     "data": {
      "text/plain": [
       "'banana'"
      ]
     },
     "execution_count": 41,
     "metadata": {},
     "output_type": "execute_result"
    }
   ],
   "source": [
    "mylist[0]"
   ]
  },
  {
   "cell_type": "code",
   "execution_count": 42,
   "metadata": {},
   "outputs": [
    {
     "name": "stdout",
     "output_type": "stream",
     "text": [
      "banana\n",
      "cherry\n",
      "apple\n"
     ]
    }
   ],
   "source": [
    "for i in mylist:\n",
    "    print(i) # prints each item in the list\n"
   ]
  },
  {
   "cell_type": "code",
   "execution_count": 43,
   "metadata": {},
   "outputs": [
    {
     "name": "stdout",
     "output_type": "stream",
     "text": [
      "yes\n"
     ]
    }
   ],
   "source": [
    "if \"banana\" in mylist:\n",
    "    print(\"yes\")\n",
    "else:\n",
    "    print(\"no\") # yes if banana is in the list, no if not"
   ]
  },
  {
   "cell_type": "code",
   "execution_count": 44,
   "metadata": {},
   "outputs": [
    {
     "data": {
      "text/plain": [
       "['banana', 'blueberry', 'cherry', 'apple']"
      ]
     },
     "execution_count": 44,
     "metadata": {},
     "output_type": "execute_result"
    }
   ],
   "source": [
    "mylist.insert(1, \"blueberry\")\n",
    "mylist # inserts blueberry at index 1"
   ]
  },
  {
   "cell_type": "code",
   "execution_count": 45,
   "metadata": {},
   "outputs": [
    {
     "data": {
      "text/plain": [
       "['banana', 'blueberry', 'cherry', 'apple', 'lemon']"
      ]
     },
     "execution_count": 45,
     "metadata": {},
     "output_type": "execute_result"
    }
   ],
   "source": [
    "mylist.append(\"lemon\")\n",
    "mylist # adds lemon to the end of the list"
   ]
  },
  {
   "cell_type": "code",
   "execution_count": 46,
   "metadata": {},
   "outputs": [
    {
     "data": {
      "text/plain": [
       "'lemon'"
      ]
     },
     "execution_count": 46,
     "metadata": {},
     "output_type": "execute_result"
    }
   ],
   "source": [
    "item = mylist.pop()\n",
    "item # removes last item in list"
   ]
  },
  {
   "cell_type": "code",
   "execution_count": 47,
   "metadata": {},
   "outputs": [
    {
     "data": {
      "text/plain": [
       "['banana', 'blueberry', 'apple']"
      ]
     },
     "execution_count": 47,
     "metadata": {},
     "output_type": "execute_result"
    }
   ],
   "source": [
    "item = mylist.remove(\"cherry\")\n",
    "mylist # removes cherry from list"
   ]
  },
  {
   "cell_type": "code",
   "execution_count": 48,
   "metadata": {},
   "outputs": [
    {
     "data": {
      "text/plain": [
       "['apple', 'blueberry', 'banana']"
      ]
     },
     "execution_count": 48,
     "metadata": {},
     "output_type": "execute_result"
    }
   ],
   "source": [
    "mylist.reverse()\n",
    "mylist# Changes the list; uses in place modification"
   ]
  },
  {
   "cell_type": "code",
   "execution_count": 49,
   "metadata": {},
   "outputs": [
    {
     "data": {
      "text/plain": [
       "['apple', 'banana', 'blueberry']"
      ]
     },
     "execution_count": 49,
     "metadata": {},
     "output_type": "execute_result"
    }
   ],
   "source": [
    "mylist.sort()\n",
    "mylist # Changes the list; uses in place modification"
   ]
  },
  {
   "cell_type": "code",
   "execution_count": 52,
   "metadata": {},
   "outputs": [
    {
     "name": "stdout",
     "output_type": "stream",
     "text": [
      "[4, 3, 1, -1, -5, 10]\n",
      "[-5, -1, 1, 3, 4, 10]\n"
     ]
    }
   ],
   "source": [
    "mylist = [4, 3, 1, -1, -5, 10]\n",
    "print(mylist)\n",
    "new_list = sorted(mylist)\n",
    "print(new_list) "
   ]
  },
  {
   "cell_type": "code",
   "execution_count": 53,
   "metadata": {},
   "outputs": [
    {
     "name": "stdout",
     "output_type": "stream",
     "text": [
      "[0, 0, 0, 0, 0]\n"
     ]
    }
   ],
   "source": [
    "mylist = [0] * 5\n",
    "print(mylist) # duplicates the list 5 times"
   ]
  },
  {
   "cell_type": "code",
   "execution_count": 54,
   "metadata": {},
   "outputs": [
    {
     "name": "stdout",
     "output_type": "stream",
     "text": [
      "[0, 0, 0, 0, 0, 1, 2, 3, 4, 5]\n"
     ]
    }
   ],
   "source": [
    "mylist2 = [1, 2, 3, 4, 5]\n",
    "\n",
    "new_list = mylist + mylist2\n",
    "print(new_list)"
   ]
  },
  {
   "cell_type": "code",
   "execution_count": 55,
   "metadata": {},
   "outputs": [
    {
     "name": "stdout",
     "output_type": "stream",
     "text": [
      "[2, 3, 4, 5]\n"
     ]
    }
   ],
   "source": [
    "#slicing\n",
    "mylist = [1, 2, 3, 4, 5, 6, 7, 8, 9]\n",
    "a = mylist[1:5]\n",
    "print(a)"
   ]
  },
  {
   "cell_type": "code",
   "execution_count": 56,
   "metadata": {},
   "outputs": [
    {
     "name": "stdout",
     "output_type": "stream",
     "text": [
      "[1, 3, 5, 7, 9]\n"
     ]
    }
   ],
   "source": [
    "#step\n",
    "b = mylist[::2] # [start:end:step]\n",
    "print(b) # [1, 3, 5, 7, 9] ; skips every other element"
   ]
  },
  {
   "cell_type": "code",
   "execution_count": 57,
   "metadata": {},
   "outputs": [
    {
     "name": "stdout",
     "output_type": "stream",
     "text": [
      "['banana', 'cherry', 'apple', 'lemon']\n",
      "['banana', 'cherry', 'apple', 'lemon']\n"
     ]
    }
   ],
   "source": [
    "list_org = [\"banana\", \"cherry\", \"apple\"]\n",
    "list_cpy = list_org # this is not a copy, it is a reference to the original in memory\n",
    "list_cpy.append(\"lemon\")\n",
    "print(list_cpy)\n",
    "print(list_org)"
   ]
  },
  {
   "cell_type": "code",
   "execution_count": 58,
   "metadata": {},
   "outputs": [],
   "source": [
    "# to make a copy\n",
    "list_cpy = list_org.copy()\n",
    "list_cpy = list(list_org)\n",
    "list_cpy = list_org[:]"
   ]
  },
  {
   "cell_type": "code",
   "execution_count": 59,
   "metadata": {},
   "outputs": [
    {
     "name": "stdout",
     "output_type": "stream",
     "text": [
      "[1, 4, 9, 16, 25, 36]\n"
     ]
    }
   ],
   "source": [
    "# list comprehension\n",
    "a = [1, 2, 3, 4, 5, 6]\n",
    "b = [i*i for i in a] \n",
    "print(b) # squares each element in a and adds it to b in a new list [expression for item in list]"
   ]
  },
  {
   "cell_type": "markdown",
   "metadata": {},
   "source": [
    "![green-divider](https://user-images.githubusercontent.com/7065401/52071924-c003ad80-2562-11e9-8297-1c6595f8a7ff.png)"
   ]
  },
  {
   "cell_type": "markdown",
   "metadata": {},
   "source": [
    "## Tuples\n",
    "\n",
    "In programming, a tuple is an ordered collection of elements of different types. Tuples are similar to lists, but unlike lists, tuples are immutable, meaning their values cannot be changed once they are created. Tuples are often used when you want to group related data together into a single object that should not be modified.\n",
    "\n",
    "Key characteristics of tuples include:\n",
    "\n",
    "1. Order: Tuples maintain the order of elements. The position of an element in a tuple is fixed and has significance.\n",
    "\n",
    "2. Immutable: Once a tuple is created, its elements cannot be modified. You cannot add, remove, or change elements in a tuple. This immutability ensures the integrity and stability of the data.\n",
    "\n",
    "3. Heterogeneous: Tuples can contain elements of different data types. For example, a tuple can include an integer, a string, and a boolean value, all in a single tuple object.\n",
    "\n",
    "4. Access: Elements within a tuple can be accessed by their indices, just like in lists. Indexing starts at 0 for the first element.\n",
    "\n",
    "Tuples are often used in scenarios where you want to represent a collection of related values that should be treated as a single unit. For example, a tuple can be used to represent a point in a coordinate system with (x, y) coordinates, where the order of the elements is important.\n",
    "\n",
    "Here's an example of creating and accessing a tuple in Python:\n",
    "\n",
    "```python\n",
    "my_tuple = (1, \"apple\", True)\n",
    "print(my_tuple[0])  # Output: 1\n",
    "print(my_tuple[1])  # Output: \"apple\"\n",
    "print(my_tuple[2])  # Output: True\n",
    "```\n",
    "\n",
    "```python\n",
    "# slicing\n",
    "a = (1, 2, 3, 4, 5, 6, 7, 8, 9)\n",
    "b = a[2:5]\n",
    "print(b) # (3, 4, 5)\n",
    "\n",
    "b = a[::-1] # reverses the tuple\n",
    "\n",
    "b = a[1:6:2] # (2, 4, 6) starts at index 1, ends at index 6, steps by 2\n",
    "```\n",
    "\n",
    "Tuples can also be used for multiple return values from a function, as they provide a convenient way to group multiple values together and return them as a single object.\n",
    "\n",
    "While tuples are immutable, you can create new tuples by concatenating or slicing existing tuples. Additionally, tuples can be unpacked to assign their elements to individual variables.\n",
    "\n",
    "```python\n",
    "tuple1 = (1, 2, 3)\n",
    "tuple2 = (4, 5, 6)\n",
    "concatenated_tuple = tuple1 + tuple2\n",
    "print(concatenated_tuple)  # Output: (1, 2, 3, 4, 5, 6)\n",
    "\n",
    "x, y, z = tuple1  # Unpacking the tuple\n",
    "print(x, y, z)  # Output: 1 2 3\n",
    "```\n",
    "\n",
    "```python\n",
    "mytuple = (0, 1, 2, 3, 4)\n",
    "i1, *i2, i3 = mytuple\n",
    "print(i1) # 0\n",
    "print(i2) # [1, 2, 3]\n",
    "print(i3) # 4 * is called a splat operator; it takes the rest of the elements in the tuple and puts them in a list\n",
    "```\n",
    "\n",
    "In summary, tuples are ordered, immutable collections of elements that can contain different data types. They are commonly used when you need to group related data together in a way that should not be modified."
   ]
  },
  {
   "cell_type": "code",
   "execution_count": 60,
   "metadata": {},
   "outputs": [
    {
     "name": "stdout",
     "output_type": "stream",
     "text": [
      "104 bytes\n",
      "80 bytes\n",
      "0.04583650000859052\n",
      "0.008217900001909584\n"
     ]
    }
   ],
   "source": [
    "# tuples are faster and efficient than lists\n",
    "import sys\n",
    "mylist = [0, 1, 2, \"hello\", True]\n",
    "mytuple = (0, 1, 2, \"hello\", True)\n",
    "print(sys.getsizeof(mylist), \"bytes\") # 104 bytes\n",
    "print(sys.getsizeof(mytuple), \"bytes\") # 88 bytes\n",
    "\n",
    "import timeit\n",
    "print(timeit.timeit(stmt=\"[0, 1, 2, 3, 4, 5]\", number=1000000)) # 0.066 seconds\n",
    "print(timeit.timeit(stmt=\"(0, 1, 2, 3, 4, 5)\", number=1000000)) # 0.011 seconds"
   ]
  },
  {
   "cell_type": "markdown",
   "metadata": {},
   "source": [
    "![green-divider](https://user-images.githubusercontent.com/7065401/52071924-c003ad80-2562-11e9-8297-1c6595f8a7ff.png)"
   ]
  },
  {
   "cell_type": "markdown",
   "metadata": {},
   "source": [
    "## Dictionaries\n",
    "\n",
    "Dictionaries, also known as associative arrays or hash maps, are data structures that store collections of key-value pairs. They provide an efficient way to access and retrieve values based on their associated keys. Dictionaries are widely used in programming to represent and manage data where quick lookups and retrieval of values are important.\n",
    "\n",
    "Key characteristics of dictionaries include:\n",
    "\n",
    "1. Key-Value Pairs: Each element in a dictionary consists of a key-value pair. The key is used to uniquely identify the associated value. Keys must be unique within a dictionary, and each key is typically associated with only one value.\n",
    "\n",
    "2. Unordered: Dictionaries do not maintain a specific order for their elements. The elements are stored and retrieved based on their keys, not their order of insertion.\n",
    "\n",
    "3. Fast Lookup: Dictionaries provide fast lookup and retrieval of values based on their associated keys. Using a hashing function, the key is hashed to determine its storage location in the underlying data structure. This allows for efficient retrieval of values, even for large dictionaries.\n",
    "\n",
    "4. Mutable: Dictionaries are mutable, meaning you can modify their contents by adding, updating, or removing key-value pairs.\n",
    "\n",
    "5. Dynamic Size: Dictionaries can dynamically grow or shrink as key-value pairs are added or removed. They can efficiently handle varying numbers of elements without requiring a fixed size allocation.\n",
    "\n",
    "Dictionaries are commonly used when you want to associate values with specific keys or when you need a fast lookup mechanism. They are especially useful when you have large amounts of data and need to quickly retrieve values based on some unique identifier.\n",
    "\n",
    "\n",
    "```python\n",
    "my_dict = {\n",
    "    \"name\": \"John\",\n",
    "    \"age\": 25,\n",
    "    \"country\": \"USA\"\n",
    "}\n",
    "\n",
    "print(my_dict[\"name\"])  # Output: \"John\"\n",
    "print(my_dict[\"age\"])  # Output: 25\n",
    "\n",
    "# Adding a new key-value pair\n",
    "my_dict[\"occupation\"] = \"Engineer\"\n",
    "print(my_dict)  # Output: {'name': 'John', 'age': 25, 'country': 'USA', 'occupation': 'Engineer'}\n",
    "\n",
    "# Updating a value\n",
    "my_dict[\"age\"] = 26\n",
    "print(my_dict)  # Output: {'name': 'John', 'age': 26, 'country': 'USA', 'occupation': 'Engineer'}\n",
    "\n",
    "# Removing a key-value pair\n",
    "del my_dict[\"country\"]\n",
    "print(my_dict)  # Output: {'name': 'John', 'age': 26, 'occupation': 'Engineer'}\n",
    "```\n",
    "\n",
    "In summary, dictionaries are unordered collections of key-value pairs that provide efficient lookup and retrieval of values based on their associated keys. They are commonly used when you need to store and access data using unique identifiers.\n"
   ]
  },
  {
   "cell_type": "markdown",
   "metadata": {},
   "source": [
    "![green-divider](https://user-images.githubusercontent.com/7065401/52071924-c003ad80-2562-11e9-8297-1c6595f8a7ff.png)"
   ]
  },
  {
   "cell_type": "markdown",
   "metadata": {},
   "source": [
    "# Stack\n",
    "\n",
    "A stack is a fundamental data structure that follows the Last-In-First-Out (LIFO) principle. It is an ordered collection of elements where insertions and deletions occur at the same end, commonly referred to as the \"top\" of the stack. The element that was most recently added to the stack is the first one to be removed.\n",
    "\n",
    "Key operations and characteristics of a stack include:\n",
    "\n",
    "1. Push: Adding an element to the top of the stack is called \"push.\" The new element becomes the top of the stack.\n",
    "\n",
    "2. Pop: Removing the element from the top of the stack is called \"pop.\" The element that was pushed last is popped from the stack.\n",
    "\n",
    "3. Peek/Top: Retrieving the element at the top of the stack without removing it is known as \"peek\" or \"top\" operation.\n",
    "\n",
    "4. Empty Check: Determining whether the stack is empty or not.\n",
    "\n",
    "Stacks can be implemented using various underlying data structures, such as arrays or linked lists. The choice of implementation affects the efficiency of stack operations.\n",
    "\n",
    "Here's an example of stack operations in Python:\n",
    "\n",
    "```python\n",
    "stack = []  # Creating an empty stack\n",
    "\n",
    "stack.append(10)  # Pushing 10 to the stack\n",
    "stack.append(20)  # Pushing 20 to the stack\n",
    "stack.append(30)  # Pushing 30 to the stack\n",
    "\n",
    "print(stack)  # Output: [10, 20, 30]\n",
    "\n",
    "top_element = stack.pop()  # Popping the top element from the stack\n",
    "print(top_element)  # Output: 30\n",
    "\n",
    "print(stack)  # Output: [10, 20]\n",
    "\n",
    "peek_element = stack[-1]  # Peeking the top element without removing it\n",
    "print(peek_element)  # Output: 20\n",
    "\n",
    "is_empty = len(stack) == 0  # Checking if the stack is empty\n",
    "print(is_empty)  # Output: False\n",
    "```\n",
    "\n",
    "Stacks are commonly used in many applications, including:\n",
    "\n",
    "- Function Call Stack: Stacks are used to manage function calls and their respective local variables in most programming languages.\n",
    "- Expression Evaluation: Stacks can be used to evaluate expressions by converting them to postfix or prefix notation.\n",
    "- Undo/Redo Operations: Stacks can be used to implement undo and redo functionality in applications.\n",
    "- Depth-First Search (DFS): Stacks are used in graph traversal algorithms like DFS to keep track of visited nodes.\n",
    "\n",
    "The LIFO property of stacks makes them suitable for scenarios where the most recently added items need to be accessed or processed first."
   ]
  },
  {
   "cell_type": "code",
   "execution_count": 10,
   "metadata": {},
   "outputs": [],
   "source": [
    "class Stack:\n",
    "    def __init__(self):\n",
    "        self.stack = []\n",
    "\n",
    "    def push(self, item):\n",
    "        self.stack.append(item)\n",
    "\n",
    "    def pop(self):\n",
    "        return self.stack.pop()\n",
    "\n",
    "    def peek(self):\n",
    "        last_element = len(self.stack) - 1\n",
    "        return self.stack[last_element]"
   ]
  },
  {
   "cell_type": "code",
   "execution_count": 11,
   "metadata": {},
   "outputs": [
    {
     "data": {
      "text/plain": [
       "3"
      ]
     },
     "execution_count": 11,
     "metadata": {},
     "output_type": "execute_result"
    }
   ],
   "source": [
    "stack1 = Stack()\n",
    "stack1.push(1)\n",
    "stack1.push(2)\n",
    "stack1.push(3)\n",
    "\n",
    "stack1.peek()"
   ]
  },
  {
   "cell_type": "markdown",
   "metadata": {},
   "source": [
    "![green-divider](https://user-images.githubusercontent.com/7065401/52071924-c003ad80-2562-11e9-8297-1c6595f8a7ff.png)"
   ]
  },
  {
   "cell_type": "code",
   "execution_count": null,
   "metadata": {},
   "outputs": [],
   "source": []
  },
  {
   "cell_type": "code",
   "execution_count": null,
   "metadata": {},
   "outputs": [],
   "source": []
  },
  {
   "cell_type": "code",
   "execution_count": null,
   "metadata": {},
   "outputs": [],
   "source": []
  },
  {
   "cell_type": "code",
   "execution_count": null,
   "metadata": {},
   "outputs": [],
   "source": []
  },
  {
   "cell_type": "code",
   "execution_count": null,
   "metadata": {},
   "outputs": [],
   "source": []
  },
  {
   "cell_type": "code",
   "execution_count": null,
   "metadata": {},
   "outputs": [],
   "source": []
  }
 ],
 "metadata": {
  "kernelspec": {
   "display_name": "Python 3 (ipykernel)",
   "language": "python",
   "name": "python3"
  },
  "language_info": {
   "codemirror_mode": {
    "name": "ipython",
    "version": 3
   },
   "file_extension": ".py",
   "mimetype": "text/x-python",
   "name": "python",
   "nbconvert_exporter": "python",
   "pygments_lexer": "ipython3",
   "version": "3.10.10"
  },
  "toc": {
   "base_numbering": 1,
   "nav_menu": {},
   "number_sections": true,
   "sideBar": true,
   "skip_h1_title": false,
   "title_cell": "Table of Contents",
   "title_sidebar": "Contents",
   "toc_cell": false,
   "toc_position": {},
   "toc_section_display": true,
   "toc_window_display": false
  }
 },
 "nbformat": 4,
 "nbformat_minor": 2
}
