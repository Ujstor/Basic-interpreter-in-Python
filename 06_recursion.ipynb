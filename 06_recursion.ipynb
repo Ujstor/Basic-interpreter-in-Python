{
 "cells": [
  {
   "attachments": {},
   "cell_type": "markdown",
   "metadata": {},
   "source": [
    "# Recursion\n",
    "\n",
    "Recursion is a programming technique where a function calls itself to solve a problem by breaking it down into smaller subproblems. In recursive functions, the function definition includes a reference to the function itself, allowing it to be called within its own body.\n",
    "\n",
    "The process of recursion involves the following steps:\n",
    "\n",
    "1. Base Case: The recursive function checks for a base case, which represents the simplest form of the problem that can be directly solved without further recursion. When the base case is reached, the recursion stops, and the function returns a result.\n",
    "\n",
    "2. Recursive Case: If the base case is not satisfied, the function makes one or more recursive calls to itself, but with a smaller input or a subproblem that is closer to the base case. Each recursive call solves a smaller part of the problem and contributes to the overall solution.\n",
    "\n",
    "3. Recursive Progression: The recursive calls continue until the base case is reached. During each recursive call, the function breaks down the original problem into smaller subproblems, making progress towards the base case.\n",
    "\n",
    "Recursive functions often involve the concept of \"divide and conquer,\" where a complex problem is divided into simpler subproblems that are solved independently. The results of these subproblems are then combined to obtain the final solution.\n",
    "\n",
    "Here's a simple example of a recursive function in Python to calculate the factorial of a number:\n",
    "\n",
    "```python\n",
    "def factorial(n):\n",
    "    # Base case: factorial of 0 or 1 is 1\n",
    "    if n == 0 or n == 1:\n",
    "        return 1\n",
    "    # Recursive case: factorial of n is n multiplied by factorial of (n-1)\n",
    "    else:\n",
    "        return n * factorial(n - 1)\n",
    "```\n",
    "\n",
    "In this factorial function, the base case is when `n` is 0 or 1, where the function directly returns 1. In the recursive case, the function calls itself with `n-1` and multiplies the current value of `n` with the factorial of `(n-1)`. This process continues until the base case is reached.\n",
    "\n",
    "Recursion can be a powerful technique for solving problems that can be divided into smaller, similar subproblems. However, it's important to ensure that the recursive function converges towards the base case and does not result in infinite recursion. Proper termination conditions and careful design are essential for correct recursive implementations."
   ]
  },
  {
   "attachments": {},
   "cell_type": "markdown",
   "metadata": {},
   "source": [
    "## Call stack\n",
    "\n",
    "The call stack is an important concept to understand when working with recursive functions or any function calls in general. It is a data structure used by the program to keep track of function calls, their local variables, and return addresses. Each time a function is called, a new frame is created on the call stack to store the function's execution context.\n",
    "\n",
    "The call stack allows recursive functions to keep track of multiple function calls by creating new frames for each function call and storing the necessary information. It is essential to understand the call stack when working with recursive functions to visualize the flow of execution and ensure proper handling of recursive calls and termination conditions.\n",
    "\n",
    "![](https://i.imgur.com/LU52FAK.png)"
   ]
  },
  {
   "attachments": {},
   "cell_type": "markdown",
   "metadata": {},
   "source": [
    "![green-divider](https://user-images.githubusercontent.com/7065401/52071924-c003ad80-2562-11e9-8297-1c6595f8a7ff.png)"
   ]
  },
  {
   "attachments": {},
   "cell_type": "markdown",
   "metadata": {},
   "source": [
    "Input positions of fibonacci positions, give the fibonacci number at that position:\n",
    "\n",
    "1, 1, 2, 3, 5, 8, 13, 21, 34, 55, ...\n",
    "\n",
    "![](https://i.imgur.com/O6an3mn.png)"
   ]
  },
  {
   "cell_type": "code",
   "execution_count": 1,
   "metadata": {},
   "outputs": [],
   "source": [
    "def fibonacci(position):\n",
    "    if position >= 3:\n",
    "        output = fibonacci(position - 1) + fibonacci(position - 2)\n",
    "    else:\n",
    "        output = 1\n",
    "\n",
    "    return output\n",
    "\n",
    "#not efficient"
   ]
  },
  {
   "cell_type": "code",
   "execution_count": 2,
   "metadata": {},
   "outputs": [
    {
     "data": {
      "text/plain": [
       "13"
      ]
     },
     "execution_count": 2,
     "metadata": {},
     "output_type": "execute_result"
    }
   ],
   "source": [
    "fibonacci(7)"
   ]
  },
  {
   "attachments": {},
   "cell_type": "markdown",
   "metadata": {},
   "source": [
    "![green-divider](https://user-images.githubusercontent.com/7065401/52071924-c003ad80-2562-11e9-8297-1c6595f8a7ff.png)"
   ]
  },
  {
   "attachments": {},
   "cell_type": "markdown",
   "metadata": {},
   "source": [
    "Count to the given number using recursion:\n"
   ]
  },
  {
   "cell_type": "code",
   "execution_count": 4,
   "metadata": {},
   "outputs": [],
   "source": [
    "def count_to_num(num):\n",
    "    if num > 0:\n",
    "        count_to_num(num - 1)\n",
    "        print(num)"
   ]
  },
  {
   "cell_type": "code",
   "execution_count": 4,
   "metadata": {},
   "outputs": [
    {
     "name": "stdout",
     "output_type": "stream",
     "text": [
      "1\n",
      "2\n"
     ]
    }
   ],
   "source": [
    "count_to_num(2)"
   ]
  },
  {
   "attachments": {},
   "cell_type": "markdown",
   "metadata": {},
   "source": [
    "1. We call the `count_to_num` function with the argument `2` initially.\n",
    "\n",
    "2. Inside the function, the condition `if num > 0` is evaluated. Since `num` is `2`, the condition is true.\n",
    "\n",
    "3. The function makes a recursive call to `count_to_num(num - 1)` with `num` subtracted by `1`, which is `1`.\n",
    "\n",
    "4. The recursive call enters a new instance of the `count_to_num` function with the argument `1`.\n",
    "\n",
    "5. Again, the condition `if num > 0` is evaluated. It is true since `num` is `1`.\n",
    "\n",
    "6. The function makes another recursive call to `count_to_num(num - 1)` with `num` subtracted by `1`, which is `0`.\n",
    "\n",
    "7. The recursive call enters a new instance of the `count_to_num` function with the argument `0`.\n",
    "\n",
    "8. Now, the condition `if num > 0` is evaluated. Since `num` is `0`, the condition is false, and the recursive calls stop.\n",
    "\n",
    "9. The function execution moves back to the previous instance of `count_to_num` with `num` equal to `1`.\n",
    "\n",
    "10. The function then proceeds to print `num`, which is `1`.\n",
    "\n",
    "11. The execution returns to the initial instance of `count_to_num` with `num` equal to `2`.\n",
    "\n",
    "12. The function then proceeds to print `num`, which is `2`.\n",
    "\n",
    "13. The function execution is complete.\n",
    "\n",
    "In this example, the `count_to_num` function recursively counts down from a given number until it reaches `0`, and then it starts printing the numbers in ascending order as the recursive calls unwind. The output for `count_to_num(2)` would be `1 2`."
   ]
  },
  {
   "cell_type": "code",
   "execution_count": 5,
   "metadata": {},
   "outputs": [
    {
     "name": "stdout",
     "output_type": "stream",
     "text": [
      "1\n",
      "2\n",
      "3\n",
      "4\n",
      "5\n",
      "6\n"
     ]
    }
   ],
   "source": [
    "count_to_num(6)"
   ]
  },
  {
   "attachments": {},
   "cell_type": "markdown",
   "metadata": {},
   "source": [
    "![green-divider](https://user-images.githubusercontent.com/7065401/52071924-c003ad80-2562-11e9-8297-1c6595f8a7ff.png)"
   ]
  },
  {
   "attachments": {},
   "cell_type": "markdown",
   "metadata": {},
   "source": [
    "## String reversal"
   ]
  },
  {
   "cell_type": "code",
   "execution_count": 4,
   "metadata": {},
   "outputs": [],
   "source": [
    "def reverse_string(string):\n",
    "    if len(string) == 0:\n",
    "        return \" \"\n",
    "    else:\n",
    "        return string[-1] + reverse_string(string[:-1])\n"
   ]
  },
  {
   "cell_type": "code",
   "execution_count": 5,
   "metadata": {},
   "outputs": [
    {
     "data": {
      "text/plain": [
       "'ollaH '"
      ]
     },
     "execution_count": 5,
     "metadata": {},
     "output_type": "execute_result"
    }
   ],
   "source": [
    "reverse_string(\"Hallo\")"
   ]
  },
  {
   "cell_type": "markdown",
   "metadata": {},
   "source": [
    "![green-divider](https://user-images.githubusercontent.com/7065401/52071924-c003ad80-2562-11e9-8297-1c6595f8a7ff.png)"
   ]
  },
  {
   "attachments": {},
   "cell_type": "markdown",
   "metadata": {},
   "source": [
    "## Palindrome"
   ]
  },
  {
   "cell_type": "code",
   "execution_count": 6,
   "metadata": {},
   "outputs": [],
   "source": [
    "def is_palindrome(string):\n",
    "    # Base case: Empty string or single character is a palindrome\n",
    "    if len(string) <= 1:\n",
    "        return True\n",
    "\n",
    "    # Recursive case: Compare first and last characters\n",
    "    if string[0] == string[-1]:\n",
    "        # Recursively check the substring without the first and last characters\n",
    "        return is_palindrome(string[1:-1])\n",
    "    else:\n",
    "        return False"
   ]
  },
  {
   "cell_type": "code",
   "execution_count": 9,
   "metadata": {},
   "outputs": [
    {
     "data": {
      "text/plain": [
       "True"
      ]
     },
     "execution_count": 9,
     "metadata": {},
     "output_type": "execute_result"
    }
   ],
   "source": [
    "is_palindrome(\"radar\")"
   ]
  },
  {
   "attachments": {},
   "cell_type": "markdown",
   "metadata": {},
   "source": [
    "\n",
    "1. We call the `is_palindrome` function with the argument `\"radar\"` initially.\n",
    "\n",
    "2. Inside the function, the length of the string is checked. Since the length is greater than 1, we proceed to the recursive case.\n",
    "\n",
    "3. The function compares the first character `\"r\"` with the last character `\"r\"`. Since they are equal, we move to the next step.\n",
    "\n",
    "4. We recursively call `is_palindrome` with the substring `\"ada\"`, which excludes the first and last characters of the original string.\n",
    "\n",
    "5. Inside the recursive call, the same steps are repeated. The length of the substring is checked, and since it is still greater than 1, we proceed to the recursive case.\n",
    "\n",
    "6. The first character of the substring is `\"a\"`, and the last character is also `\"a\"`. They match, so we move to the next step.\n",
    "\n",
    "7. We make another recursive call to `is_palindrome` with the substring `\"d\"`, excluding the first and last characters of the previous substring.\n",
    "\n",
    "8. Inside this recursive call, the length of the substring is now 1, which satisfies the base case condition.\n",
    "\n",
    "9. Since the length is 1, the function returns `True` for this base case.\n",
    "\n",
    "10. The previous recursive call receives the result `True` and continues executing the remaining steps.\n",
    "\n",
    "11. The result `True` is returned from the recursive call for the substring `\"ada\"`.\n",
    "\n",
    "12. Back in the initial instance of `is_palindrome` with the original string `\"radar\"`, the result of the recursive call is received.\n",
    "\n",
    "13. Since the result is `True`, there are no further steps to execute, and the function returns `True` as the final result.\n",
    "\n",
    "In this example, the `is_palindrome` function uses recursion to check if a given string is a palindrome. It recursively compares characters from both ends of the string, moving towards the center, and returns `True` if all characters match or `False` if a mismatch is found."
   ]
  },
  {
   "cell_type": "markdown",
   "metadata": {},
   "source": [
    "![green-divider](https://user-images.githubusercontent.com/7065401/52071924-c003ad80-2562-11e9-8297-1c6595f8a7ff.png)"
   ]
  },
  {
   "attachments": {},
   "cell_type": "markdown",
   "metadata": {},
   "source": [
    "## Decimal to binary\n",
    "\n",
    "![](https://i.imgur.com/1NGPYtg.png)"
   ]
  },
  {
   "cell_type": "code",
   "execution_count": 18,
   "metadata": {},
   "outputs": [],
   "source": [
    "def findBinary(decimal, result):\n",
    "    if decimal == 0:\n",
    "        return result\n",
    "\n",
    "    result = str(decimal % 2) + result\n",
    "    return findBinary(decimal // 2 , result)\n"
   ]
  },
  {
   "cell_type": "code",
   "execution_count": 19,
   "metadata": {},
   "outputs": [
    {
     "data": {
      "text/plain": [
       "'10011100'"
      ]
     },
     "execution_count": 19,
     "metadata": {},
     "output_type": "execute_result"
    }
   ],
   "source": [
    "findBinary(156, \"\")"
   ]
  },
  {
   "cell_type": "markdown",
   "metadata": {},
   "source": [
    "![green-divider](https://user-images.githubusercontent.com/7065401/52071924-c003ad80-2562-11e9-8297-1c6595f8a7ff.png)"
   ]
  },
  {
   "attachments": {},
   "cell_type": "markdown",
   "metadata": {},
   "source": [
    "## Sum of naturals numbers\n",
    "![](https://i.imgur.com/CSANUwh.png)"
   ]
  },
  {
   "cell_type": "code",
   "execution_count": 20,
   "metadata": {},
   "outputs": [],
   "source": [
    "def recursiveSummation(num):\n",
    "    if num <= 1:\n",
    "        return num\n",
    "    return num + recursiveSummation(num-1)"
   ]
  },
  {
   "cell_type": "code",
   "execution_count": 21,
   "metadata": {},
   "outputs": [
    {
     "data": {
      "text/plain": [
       "55"
      ]
     },
     "execution_count": 21,
     "metadata": {},
     "output_type": "execute_result"
    }
   ],
   "source": [
    "recursiveSummation(10)"
   ]
  },
  {
   "cell_type": "markdown",
   "metadata": {},
   "source": [
    "![green-divider](https://user-images.githubusercontent.com/7065401/52071924-c003ad80-2562-11e9-8297-1c6595f8a7ff.png)"
   ]
  },
  {
   "attachments": {},
   "cell_type": "markdown",
   "metadata": {},
   "source": [
    "## Binary search\n",
    "\n",
    "Binary search is an efficient search algorithm that is used to find a specific target value within a sorted list or array. It works by repeatedly dividing the search space in half until the target value is found or determined to be absent.\n",
    "\n",
    "Here's a step-by-step explanation of how binary search works:\n",
    "\n",
    "1. Given a sorted list or array, identify the start and end indices of the search space. Initially, the start index is the first element of the list, and the end index is the last element.\n",
    "\n",
    "2. Calculate the mid index as the average of the start and end indices, rounding down if necessary.\n",
    "\n",
    "3. Compare the value at the mid index with the target value you are searching for.\n",
    "\n",
    "4. If the value at the mid index matches the target value, the search is successful, and the index is returned.\n",
    "\n",
    "5. If the value at the mid index is greater than the target value, update the end index to be one less than the mid index, effectively reducing the search space to the lower half.\n",
    "\n",
    "6. If the value at the mid index is less than the target value, update the start index to be one more than the mid index, effectively reducing the search space to the upper half.\n",
    "\n",
    "7. Repeat steps 2-6 until the target value is found or the search space is empty (start index becomes greater than the end index).\n",
    "\n",
    "8. If the search space is empty and the target value is not found, return a value indicating the absence of the target.\n",
    "\n",
    "The algorithm executes the binary search process until the target value is found or the search space is empty. The index of the target value is returned if found, or `-1` is returned if the target value is not present.\n"
   ]
  },
  {
   "cell_type": "code",
   "execution_count": 22,
   "metadata": {},
   "outputs": [],
   "source": [
    "def binary_search_recursive(arr, target, start, end):\n",
    "    if start > end:\n",
    "        return -1  # Target not found\n",
    "\n",
    "    mid = (start + end) // 2\n",
    "\n",
    "    if arr[mid] == target:\n",
    "        return mid\n",
    "    elif arr[mid] > target:\n",
    "        return binary_search_recursive(arr, target, start, mid - 1)\n",
    "    else:\n",
    "        return binary_search_recursive(arr, target, mid + 1, end)"
   ]
  },
  {
   "cell_type": "code",
   "execution_count": 25,
   "metadata": {},
   "outputs": [
    {
     "name": "stdout",
     "output_type": "stream",
     "text": [
      "Target found at index: 3\n"
     ]
    }
   ],
   "source": [
    "sorted_list = [1, 3, 5, 7, 9, 11, 13, 15]\n",
    "target_value = 7\n",
    "result = binary_search_recursive(sorted_list, target_value, 0, len(sorted_list) - 1)\n",
    "print(\"Target found at index:\", result)"
   ]
  },
  {
   "cell_type": "markdown",
   "metadata": {},
   "source": [
    "![green-divider](https://user-images.githubusercontent.com/7065401/52071924-c003ad80-2562-11e9-8297-1c6595f8a7ff.png)"
   ]
  },
  {
   "attachments": {},
   "cell_type": "markdown",
   "metadata": {},
   "source": [
    "## Merge Sort\n",
    "\n",
    "Merge sort is a popular sorting algorithm that follows the divide-and-conquer approach. It works by dividing the unsorted list into smaller sublists, recursively sorting them, and then merging the sorted sublists to obtain the final sorted list. Here's a step-by-step explanation of how merge sort works:\n",
    "\n",
    "1. Divide: The unsorted list is divided into two halves, roughly equal in size. This division is performed recursively until each sublist contains only one element (which is already considered sorted).\n",
    "\n",
    "2. Conquer: After dividing the list, the recursion backtracks and merges the sorted sublists. The merging process starts with pairs of adjacent sublists and combines them into larger sorted sublists. This process continues until a single sorted list is obtained.\n",
    "\n",
    "3. Merge: To merge the sublists, a merging algorithm is employed. It compares the elements from each sublist and places them in the correct order in a temporary array. The temporary array is then copied back into the original list, resulting in a sorted merged sublist.\n",
    "\n",
    "4. The process continues recursively until all sublists are merged and a fully sorted list is obtained."
   ]
  },
  {
   "attachments": {},
   "cell_type": "markdown",
   "metadata": {},
   "source": [
    "![](https://i.imgur.com/a760j3K.png)"
   ]
  },
  {
   "cell_type": "code",
   "execution_count": 1,
   "metadata": {},
   "outputs": [],
   "source": [
    "def merge_sort(arr):\n",
    "    if len(arr) <= 1:\n",
    "        return arr\n",
    "\n",
    "    # Divide the list into two halves\n",
    "    mid = len(arr) // 2\n",
    "    left_half = arr[:mid]\n",
    "    right_half = arr[mid:]\n",
    "\n",
    "    # Recursively sort the two halves\n",
    "    left_half = merge_sort(left_half)\n",
    "    right_half = merge_sort(right_half)\n",
    "\n",
    "    # Merge the sorted halves\n",
    "    return merge(left_half, right_half)\n",
    "\n",
    "def merge(left, right):\n",
    "    result = []\n",
    "    i, j = 0, 0\n",
    "\n",
    "    # Compare and merge the elements from the two sublists\n",
    "    while i < len(left) and j < len(right):\n",
    "        if left[i] <= right[j]:\n",
    "            result.append(left[i])\n",
    "            i += 1\n",
    "        else:\n",
    "            result.append(right[j])\n",
    "            j += 1\n",
    "\n",
    "    # Append any remaining elements from the left or right sublist\n",
    "    result.extend(left[i:])\n",
    "    result.extend(right[j:])\n",
    "\n",
    "    return result"
   ]
  },
  {
   "cell_type": "code",
   "execution_count": 2,
   "metadata": {},
   "outputs": [
    {
     "name": "stdout",
     "output_type": "stream",
     "text": [
      "Sorted list: [1, 2, 4, 5, 7, 8, 9, 12, 15]\n"
     ]
    }
   ],
   "source": [
    "unsorted_list = [5, 2, 8, 12, 1, 9, 4, 15, 7]\n",
    "sorted_list = merge_sort(unsorted_list)\n",
    "print(\"Sorted list:\", sorted_list)"
   ]
  },
  {
   "attachments": {},
   "cell_type": "markdown",
   "metadata": {},
   "source": [
    "The function recursively divides the list into two halves until each sublist contains only one element. Then, the `merge` function is used to merge the sorted sublists back together. The merging process compares the elements from the left and right sublists, placing them in the correct order in a temporary array. Finally, the sorted merged sublist is returned. Merge sort offers an efficient and stable sorting algorithm with a time complexity of O(n log n) in the average and worst cases."
   ]
  },
  {
   "cell_type": "markdown",
   "metadata": {},
   "source": [
    "![green-divider](https://user-images.githubusercontent.com/7065401/52071924-c003ad80-2562-11e9-8297-1c6595f8a7ff.png)"
   ]
  },
  {
   "cell_type": "code",
   "execution_count": null,
   "metadata": {},
   "outputs": [],
   "source": []
  },
  {
   "cell_type": "code",
   "execution_count": null,
   "metadata": {},
   "outputs": [],
   "source": []
  }
 ],
 "metadata": {
  "kernelspec": {
   "display_name": "env",
   "language": "python",
   "name": "python3"
  },
  "language_info": {
   "codemirror_mode": {
    "name": "ipython",
    "version": 3
   },
   "file_extension": ".py",
   "mimetype": "text/x-python",
   "name": "python",
   "nbconvert_exporter": "python",
   "pygments_lexer": "ipython3",
   "version": "3.10.10"
  },
  "orig_nbformat": 4
 },
 "nbformat": 4,
 "nbformat_minor": 2
}
