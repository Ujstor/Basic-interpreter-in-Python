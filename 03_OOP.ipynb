{
 "cells": [
  {
   "attachments": {},
   "cell_type": "markdown",
   "metadata": {},
   "source": [
    "# Functional Programming\n",
    "\n",
    "Programming paradigm that treats computation as the evaluation of mathematical functions and avoids changing state and mutable data. It emphasizes the use of pure functions, which have no side effects and always produce the same output for the same input. Functional programming languages and techniques have gained popularity due to their focus on code clarity, maintainability, and parallelism.\n",
    "\n",
    "Key concepts and characteristics of functional programming include:\n",
    "\n",
    "1. Pure Functions: A pure function is a function that, given the same input, always produces the same output and has no side effects. It does not modify any external state or data and relies only on its input parameters. Pure functions are predictable, easy to reason about, and facilitate better code testing and debugging.\n",
    "\n",
    "2. Immutability: In functional programming, data is typically immutable, meaning it cannot be changed after creation. Instead of modifying existing data, functional programs create new data structures with desired modifications. Immutable data helps eliminate bugs related to shared mutable state and enables safer concurrent programming.\n",
    "\n",
    "3. Higher-Order Functions: Functional programming languages treat functions as first-class citizens, meaning functions can be passed as arguments to other functions, returned as results, and assigned to variables. This allows for the creation of higher-order functions, which can abstract common patterns, promote code reuse, and enable powerful abstractions.\n",
    "\n",
    "4. Recursion: Functional programming often relies heavily on recursion instead of iterative loops. Recursion involves defining functions in terms of themselves, allowing the program to solve complex problems by breaking them down into simpler, self-referential steps. Tail recursion is a specific form of recursion that optimizes memory usage by reusing stack frames.\n",
    "\n",
    "5. Functional Composition: Functional programming encourages composing smaller functions to create more complex functions. This composition is typically done using higher-order functions like `map`, `filter`, and `reduce`. By combining functions, programs can be expressed more declaratively, making code more concise and easier to understand.\n",
    "\n",
    "6. Referential Transparency: Referential transparency means that a function can be replaced with its resulting value without changing the behavior of the program. In other words, functions in functional programming do not rely on any hidden state or context and are solely dependent on their inputs.\n",
    "\n",
    "Functional programming is known for its ability to handle complex problems elegantly, encourage modularity, and facilitate parallel and distributed computing. However, it may require a different way of thinking compared to imperative programming, which often dominates mainstream programming paradigms.\n"
   ]
  },
  {
   "cell_type": "code",
   "execution_count": 1,
   "metadata": {},
   "outputs": [],
   "source": [
    "def remaning_fuel(initial, kilometers, ratio):\n",
    "    return initial - kilometers * ratio"
   ]
  },
  {
   "cell_type": "code",
   "execution_count": 8,
   "metadata": {},
   "outputs": [],
   "source": [
    "initial = 100\n",
    "kilometers = 20\n",
    "ratio = 2"
   ]
  },
  {
   "cell_type": "code",
   "execution_count": 9,
   "metadata": {},
   "outputs": [
    {
     "data": {
      "text/plain": [
       "60"
      ]
     },
     "execution_count": 9,
     "metadata": {},
     "output_type": "execute_result"
    }
   ],
   "source": [
    "remaning_fuel(initial, kilometers, ratio)"
   ]
  },
  {
   "attachments": {},
   "cell_type": "markdown",
   "metadata": {},
   "source": [
    "![purple-divider](https://user-images.githubusercontent.com/7065401/52071927-c1cd7100-2562-11e9-908a-dde91ba14e59.png)"
   ]
  },
  {
   "attachments": {},
   "cell_type": "markdown",
   "metadata": {},
   "source": [
    "# Object-oriented programming (OOP) \n",
    "\n",
    "is a programming paradigm that organizes code into objects, which are instances of classes. It emphasizes the concept of objects as the central building blocks of software systems, where each object has its own state (data) and behavior (methods).\n",
    "\n",
    "Key concepts and characteristics of object-oriented programming include:\n",
    "\n",
    "1. Classes and Objects: A class is a blueprint or template that defines the properties and behaviors common to a group of objects. An object is an instance of a class that encapsulates its own state and behavior. Objects interact with each other through method calls and can communicate by exchanging messages.\n",
    "\n",
    "2. Encapsulation: Encapsulation is the practice of bundling data and methods that operate on that data within a single unit, i.e., an object. The internal representation and implementation details of an object are hidden from the outside world, and access to the object's data is controlled through methods, often referred to as getters and setters. Encapsulation helps achieve data abstraction and protects the integrity of the object's state.\n",
    "\n",
    "3. Inheritance: Inheritance allows classes to inherit properties and behaviors from other classes, forming a hierarchy. A class that inherits from another class is called a subclass or derived class, and the class being inherited from is called a superclass or base class. Inheritance promotes code reuse, as subclasses can extend or specialize the functionality of their superclass.\n",
    "\n",
    "4. Polymorphism: Polymorphism allows objects of different classes to be treated as objects of a common superclass. It enables the use of a single interface or abstract class to represent multiple related classes. Polymorphism allows for code flexibility, as the behavior of an object can be determined at runtime based on its actual type.\n",
    "\n",
    "5. Abstraction: Abstraction is the process of simplifying complex systems by breaking them down into manageable, abstract representations. In OOP, abstraction involves creating abstract classes or interfaces that define the common characteristics and behavior of related objects without providing implementation details. Abstraction helps in designing modular and maintainable code.\n",
    "\n",
    "6. Message Passing: Objects communicate and interact with each other by sending messages. A message typically involves invoking a method or operation on the receiving object, which then performs the necessary actions based on its internal state. Message passing is a fundamental concept in OOP and enables loose coupling and modularity.\n",
    "\n",
    " OOP allows for the modeling of real-world entities and relationships, making it suitable for developing complex systems and large-scale applications."
   ]
  },
  {
   "cell_type": "code",
   "execution_count": 10,
   "metadata": {},
   "outputs": [
    {
     "name": "stdout",
     "output_type": "stream",
     "text": [
      "Max 25 Junior 5000\n",
      "Keyboard Magician\n",
      "Keyboard Magician\n"
     ]
    }
   ],
   "source": [
    "class SoftwareEngineer:\n",
    "\n",
    "    # class attributes; can be used on class itself or on instance\n",
    "    alias = 'Keyboard Magician' #belong to class; same for all instances and we can access it without creating an instance\n",
    "\n",
    "    def __init__(self, name, age, level, salary):\n",
    "        # instance attributes; belong to one instance that we create\n",
    "        self.name = name\n",
    "        self.age = age\n",
    "        self.level = level\n",
    "        self.salary = salary\n",
    "\n",
    "# instance\n",
    "se1 = SoftwareEngineer('Max', 25, 'Junior', 5000)\n",
    "print(se1.name, se1.age, se1.level, se1.salary)\n",
    "print(se1.alias)\n",
    "print(SoftwareEngineer.alias)\n",
    "se2 = SoftwareEngineer('Lisa', 28, 'Senior', 7000)\n",
    "\n",
    "#Recap\n",
    "# create a class (blueprint)\n",
    "# create an instance (object)\n",
    "# class vs instance\n",
    "# instance attributes: defined in __init__ method\n",
    "# class attributes: defined outside __init__ method"
   ]
  },
  {
   "cell_type": "code",
   "execution_count": 11,
   "metadata": {},
   "outputs": [
    {
     "name": "stdout",
     "output_type": "stream",
     "text": [
      "Max is writing code...\n",
      "Lisa is writing code...\n",
      "Max is writing code in Python...\n",
      "Lisa is writing code in Java...\n",
      "name = Max, age = 25, level = Junior\n",
      "name = Lisa, age = 28, level = Senior\n",
      "True\n",
      "False\n"
     ]
    },
    {
     "data": {
      "text/plain": [
       "5000"
      ]
     },
     "execution_count": 11,
     "metadata": {},
     "output_type": "execute_result"
    }
   ],
   "source": [
    "class SoftwareEngineer:\n",
    "    #class attributes\n",
    "    alias = 'Keyboard Magician'\n",
    "\n",
    "    def __init__(self, name, age, level, salary):\n",
    "        # instance attributes; belong to one instance that we create\n",
    "        self.name = name\n",
    "        self.age = age\n",
    "        self.level = level\n",
    "        self.salary = salary\n",
    "\n",
    "    # instance method\n",
    "    def code(self):\n",
    "        print(f'{self.name} is writing code...')\n",
    "\n",
    "    def code_in_language(self, language):\n",
    "        print(f'{self.name} is writing code in {language}...')\n",
    "\n",
    "    #def information(self):\n",
    "        #information = f'name = {self.name}, age = {self.age}, level = {self.level}'\n",
    "        #return information\n",
    "\n",
    "    #special method's (dunder/magic method)\n",
    "    def __str__(self):\n",
    "        information = f'name = {self.name}, age = {self.age}, level = {self.level}'\n",
    "        return information\n",
    "\n",
    "    def __eq__(self, other):\n",
    "        return self.name == other.name and self.age == other.age\n",
    "\n",
    "    @staticmethod\n",
    "    def entry_salary(age): #self isn't passed intentionally; use static decorator(prevent crash if we don't pass self)\n",
    "        if age < 25:\n",
    "            return 5000\n",
    "        if age < 30:\n",
    "            return 7000\n",
    "        return 9000\n",
    "\n",
    "\n",
    "\n",
    "# instance\n",
    "se1 = SoftwareEngineer('Max', 25, 'Junior', 5000)\n",
    "se2 = SoftwareEngineer('Lisa', 28, 'Senior', 7000)\n",
    "\n",
    "se4 = SoftwareEngineer('Max', 27, 'Junior', 5000)\n",
    "se3 = SoftwareEngineer('Lisa', 28, 'Senior', 7000)\n",
    "\n",
    "se1.code() #when we call this method, self will be se1 and we don't need to pass it\n",
    "se2.code()\n",
    "se1.code_in_language('Python')\n",
    "se2.code_in_language('Java')\n",
    "\n",
    "print(se1) #__str__ method is called and it returns the string\n",
    "print(se2)\n",
    "\n",
    "print(se2 == se3) #False without __eq__ because they are different instances in memory\n",
    "print(se1 == se4)\n",
    "\n",
    "se1.entry_salary(24) #TypeError: SoftwareEngineer.entry_salary() takes 1 positional argument but 2 were given; self is passed automatically; we need to use static method\n",
    "SoftwareEngineer.entry_salary(24) #we need call it on class itself, not on instance\n",
    "\n",
    "#Recap\n",
    "# instance method: first argument is self\n",
    "# can taka arguments and return values\n",
    "# special dunder methods: __str__, __eq__\n",
    "# static method: no self argument; can't access or modify class state"
   ]
  },
  {
   "cell_type": "code",
   "execution_count": 12,
   "metadata": {},
   "outputs": [
    {
     "name": "stdout",
     "output_type": "stream",
     "text": [
      "Max 25\n",
      "Max is coding...\n",
      "Junior\n",
      "Max is debugging...\n",
      "Philipp 28\n",
      "Philipp is designing...\n",
      "Philipp is drawing...\n"
     ]
    }
   ],
   "source": [
    "#inheritance all attributes and methods from parent class\n",
    "\n",
    "\n",
    "#inherits, extends, overrides\n",
    "class Employee:\n",
    "    def __init__(self, name, age, salary):\n",
    "        self.name = name\n",
    "        self.age = age\n",
    "        self.salary = salary\n",
    "\n",
    "    def work(self):\n",
    "        print(f'{self.name} is working...')\n",
    "\n",
    "\n",
    "class SoftwareEngineer(Employee):\n",
    "    def __init__(self, name, age, salary, level):\n",
    "        super().__init__(name, age, salary)\n",
    "        self.level = level\n",
    "\n",
    "    def debug(self):\n",
    "        print(f'{self.name} is debugging...')\n",
    "\n",
    "    def work(self):\n",
    "        print(f'{self.name} is coding...') #override work method from parent class; same name and same arguments\n",
    "\n",
    "class Designer(Employee):\n",
    "\n",
    "    def draw(self):\n",
    "        print(f'{self.name} is drawing...')\n",
    "\n",
    "    def work(self):\n",
    "        print(f'{self.name} is designing...')\n",
    "\n",
    "\n",
    "\n",
    "se = SoftwareEngineer('Max', 25, 6000, \"Junior\")\n",
    "print(se.name, se.age)\n",
    "se.work()\n",
    "print(se.level)\n",
    "se.debug()\n",
    "#se.drw() #AttributeError: 'SoftwareEngineer' object has no attribute 'drw'\n",
    "\n",
    "d = Designer('Philipp', 28, 7000)\n",
    "print(d.name, d.age)\n",
    "d.work()\n",
    "d.draw()\n"
   ]
  },
  {
   "cell_type": "code",
   "execution_count": 13,
   "metadata": {},
   "outputs": [
    {
     "name": "stdout",
     "output_type": "stream",
     "text": [
      "Max is coding...\n",
      "Lisa is coding...\n",
      "Philipp is designing...\n"
     ]
    }
   ],
   "source": [
    "#Polymorphism (many forms)\n",
    "#works with super class and sub classes\n",
    "\n",
    "employees = [SoftwareEngineer('Max', 25, 6000, \"Junior\"),\n",
    "             SoftwareEngineer('Lisa', 28, 8000, \"Senior\"),\n",
    "             Designer('Philipp', 28, 7000)]\n",
    "\n",
    "def motivate_employees(employees):\n",
    "    for employee in employees:\n",
    "        employee.work()\n",
    "\n",
    "motivate_employees(employees)\n",
    "\n",
    "#Recap\n",
    "# inheritance: ChildClass(ParentClass)\n",
    "# inherit, extend, override\n",
    "# super().__init__()\n",
    "# polymorphism: same method name, different behavior"
   ]
  },
  {
   "cell_type": "code",
   "execution_count": 14,
   "metadata": {},
   "outputs": [
    {
     "name": "stdout",
     "output_type": "stream",
     "text": [
      "Max 25\n",
      "6000\n",
      "12000\n"
     ]
    }
   ],
   "source": [
    "#Encapsulation and Abstraction\n",
    "#hide data from outside and only expose what's necessary\n",
    "\n",
    "class SoftwareEngineer:\n",
    "    def __init__(self, name, age):\n",
    "        self.name = name\n",
    "        self.age = age\n",
    "        self._salary = None #protected attribute (private is __salary)\n",
    "        self._num_bugs_solved = 0\n",
    "\n",
    "    def code(self):\n",
    "        self._num_bugs_solved += 1\n",
    "\n",
    "    #getter\n",
    "    def get_salary(self):\n",
    "        return self._salary\n",
    "\n",
    "    #setter\n",
    "    def set_salary(self, base_value):\n",
    "        #check value, enforce constraints\n",
    "        \"\"\" if base_value < 1000:\n",
    "            self._salary = 1000\n",
    "        elif base_value > 20000:\n",
    "            self._salary = 20000\n",
    "        self._salary = base_value \"\"\"\n",
    "\n",
    "        self._salary = self._calculate_salary(base_value) #private method\n",
    "\n",
    "    def _calculate_salary(self, base_value):\n",
    "        if self._num_bugs_solved < 10:\n",
    "            return base_value\n",
    "        if self._num_bugs_solved < 100:\n",
    "            return base_value * 2\n",
    "        return base_value * 3\n",
    "\n",
    "\n",
    "\n",
    "se = SoftwareEngineer('Max', 25)\n",
    "print(se.name, se.age)\n",
    "\n",
    "se.set_salary(6000)\n",
    "print(se.get_salary())\n",
    "\n",
    "for i in range(70):\n",
    "    se.code()\n",
    "se.set_salary(6000)\n",
    "print(se.get_salary())"
   ]
  },
  {
   "cell_type": "code",
   "execution_count": 15,
   "metadata": {},
   "outputs": [
    {
     "name": "stdout",
     "output_type": "stream",
     "text": [
      "6000\n"
     ]
    }
   ],
   "source": [
    "#Property decorator\n",
    "\n",
    "class SoftwareEngineer:\n",
    "    def __init__(self):\n",
    "        self._salary = None\n",
    "\n",
    "    @property\n",
    "    def salary(self):\n",
    "        return self._salary\n",
    "\n",
    "    @salary.setter\n",
    "    def salary(self, value):\n",
    "        self._salary = value\n",
    "\n",
    "se = SoftwareEngineer()\n",
    "se.salary = 6000\n",
    "print(se.salary)\n",
    "\n",
    "#more pythonic way\n",
    "#implementing encapsulation and abstraction"
   ]
  },
  {
   "cell_type": "code",
   "execution_count": 16,
   "metadata": {},
   "outputs": [
    {
     "name": "stdout",
     "output_type": "stream",
     "text": [
      "6000\n",
      "None\n"
     ]
    }
   ],
   "source": [
    "class SoftwareEngineer:\n",
    "    def __init__(self):\n",
    "        self._salary = None\n",
    "\n",
    "    @property\n",
    "    def salary(self):\n",
    "        return self._salary\n",
    "\n",
    "    @salary.setter\n",
    "    def salary(self, value):\n",
    "        self._salary = value\n",
    "\n",
    "    @salary.deleter\n",
    "    def salary(self):\n",
    "        self._salary = None\n",
    "\n",
    "se = SoftwareEngineer()\n",
    "se.salary = 6000\n",
    "print(se.salary)\n",
    "del se.salary\n",
    "print(se.salary)\n",
    "\n",
    "#Recap\n",
    "# encapsulation: hide data from outside\n",
    "# abstraction: expose only what's necessary\n",
    "# public, protected, private\n",
    "# _foo(), _x\n",
    "# getter/setter\n",
    "# getter -> @property\n",
    "# setter -> @x.setter"
   ]
  }
 ],
 "metadata": {
  "kernelspec": {
   "display_name": "env",
   "language": "python",
   "name": "python3"
  },
  "language_info": {
   "codemirror_mode": {
    "name": "ipython",
    "version": 3
   },
   "file_extension": ".py",
   "mimetype": "text/x-python",
   "name": "python",
   "nbconvert_exporter": "python",
   "pygments_lexer": "ipython3",
   "version": "3.10.10"
  },
  "orig_nbformat": 4
 },
 "nbformat": 4,
 "nbformat_minor": 2
}
