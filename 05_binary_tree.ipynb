{
 "cells": [
  {
   "attachments": {},
   "cell_type": "markdown",
   "metadata": {},
   "source": [
    "# Binary Tree"
   ]
  },
  {
   "cell_type": "code",
   "execution_count": 1,
   "metadata": {},
   "outputs": [],
   "source": [
    "class Node:\n",
    "    def __init__(self, value):\n",
    "        self.value = value\n",
    "        self.left = None\n",
    "        self.right = None"
   ]
  },
  {
   "cell_type": "code",
   "execution_count": 2,
   "metadata": {},
   "outputs": [],
   "source": [
    "class BinaryTree:\n",
    "    def __init__(self, root):\n",
    "        self.root = Node(root)\n",
    "\n",
    "    def preorder(self, start, records):\n",
    "        if start is not None:\n",
    "            records.append(start.value) # root\n",
    "            records = self.preorder(start.left, records) # left subtree\n",
    "            records = self.preorder(start.right, records) # right subtree\n",
    "\n",
    "        return records\n",
    "\n",
    "    def postorder(self, start, records):\n",
    "        if start is not None:\n",
    "            records = self.postorder(start.left, records) # left subtree\n",
    "            records = self.postorder(start.right, records) # right subtree\n",
    "            records.append(start.value) # root\n",
    "\n",
    "        return records"
   ]
  },
  {
   "cell_type": "code",
   "execution_count": 3,
   "metadata": {},
   "outputs": [],
   "source": [
    "binary_tree = BinaryTree(5)\n",
    "binary_tree.root.left = Node(3)\n",
    "binary_tree.root.right = Node(4)\n",
    "binary_tree.root.left.left = Node(2)\n",
    "binary_tree.root.left.right = Node(8)\n",
    "\n",
    "#       5\n",
    "#      / \\\n",
    "#     3   4\n",
    "#    / \\\n",
    "#   2  8"
   ]
  },
  {
   "cell_type": "code",
   "execution_count": 4,
   "metadata": {},
   "outputs": [
    {
     "data": {
      "text/plain": [
       "[5, 3, 2, 8, 4]"
      ]
     },
     "execution_count": 4,
     "metadata": {},
     "output_type": "execute_result"
    }
   ],
   "source": [
    "binary_tree.preorder(binary_tree.root, [])"
   ]
  },
  {
   "cell_type": "code",
   "execution_count": 5,
   "metadata": {},
   "outputs": [
    {
     "data": {
      "text/plain": [
       "[2, 8, 3, 4, 5]"
      ]
     },
     "execution_count": 5,
     "metadata": {},
     "output_type": "execute_result"
    }
   ],
   "source": [
    "binary_tree.postorder(binary_tree.root, [])"
   ]
  }
 ],
 "metadata": {
  "kernelspec": {
   "display_name": "env",
   "language": "python",
   "name": "python3"
  },
  "language_info": {
   "codemirror_mode": {
    "name": "ipython",
    "version": 3
   },
   "file_extension": ".py",
   "mimetype": "text/x-python",
   "name": "python",
   "nbconvert_exporter": "python",
   "pygments_lexer": "ipython3",
   "version": "3.10.10"
  },
  "orig_nbformat": 4
 },
 "nbformat": 4,
 "nbformat_minor": 2
}
