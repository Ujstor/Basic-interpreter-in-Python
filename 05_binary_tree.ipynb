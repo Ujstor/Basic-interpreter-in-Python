{
 "cells": [
  {
   "cell_type": "code",
   "execution_count": 24,
   "metadata": {},
   "outputs": [],
   "source": [
    "class Node:\n",
    "    def __init__(self, value):\n",
    "        self.value = value\n",
    "        self.left = None\n",
    "        self.right = None"
   ]
  },
  {
   "cell_type": "code",
   "execution_count": 25,
   "metadata": {},
   "outputs": [],
   "source": [
    "class BinaryTree:\n",
    "    def __init__(self, root):\n",
    "        self.root = Node(root)\n",
    "\n",
    "    def preorder(self, start, records):\n",
    "        if start is not None:\n",
    "            records.append(start.value) # root\n",
    "            records = self.preorder(start.left, records) # left subtree\n",
    "            records = self.preorder(start.right, records) # right subtree\n",
    "\n",
    "        return records\n",
    "\n",
    "    def postorder(self, start, records):\n",
    "        if start is not None:\n",
    "            records = self.postorder(start.left, records) # left subtree\n",
    "            records = self.postorder(start.right, records) # right subtree\n",
    "            records.append(start.value) # root\n",
    "\n",
    "        return records\n"
   ]
  },
  {
   "cell_type": "code",
   "execution_count": 26,
   "metadata": {},
   "outputs": [],
   "source": [
    "binary_tree = BinaryTree(5)\n",
    "binary_tree.root.left = Node(3)\n",
    "binary_tree.root.right = Node(4)\n",
    "binary_tree.root.left.left = Node(2)\n",
    "binary_tree.root.left.right = Node(8)\n",
    "\n",
    "#       5\n",
    "#      / \\\n",
    "#     3   4\n",
    "#    / \\\n",
    "#   2  8"
   ]
  },
  {
   "cell_type": "code",
   "execution_count": 27,
   "metadata": {},
   "outputs": [
    {
     "data": {
      "text/plain": [
       "[5, 3, 2, 8, 4]"
      ]
     },
     "execution_count": 27,
     "metadata": {},
     "output_type": "execute_result"
    }
   ],
   "source": [
    "binary_tree.preorder(binary_tree.root, [])"
   ]
  },
  {
   "cell_type": "code",
   "execution_count": 28,
   "metadata": {},
   "outputs": [
    {
     "data": {
      "text/plain": [
       "[2, 8, 3, 4, 5]"
      ]
     },
     "execution_count": 28,
     "metadata": {},
     "output_type": "execute_result"
    }
   ],
   "source": [
    "binary_tree.postorder(binary_tree.root, [])"
   ]
  },
  {
   "cell_type": "markdown",
   "metadata": {},
   "source": [
    "# Recursion\n",
    "\n",
    "Recursion is a programming technique where a function calls itself to solve a problem by breaking it down into smaller subproblems. In recursive functions, the function definition includes a reference to the function itself, allowing it to be called within its own body.\n",
    "\n",
    "The process of recursion involves the following steps:\n",
    "\n",
    "1. Base Case: The recursive function checks for a base case, which represents the simplest form of the problem that can be directly solved without further recursion. When the base case is reached, the recursion stops, and the function returns a result.\n",
    "\n",
    "2. Recursive Case: If the base case is not satisfied, the function makes one or more recursive calls to itself, but with a smaller input or a subproblem that is closer to the base case. Each recursive call solves a smaller part of the problem and contributes to the overall solution.\n",
    "\n",
    "3. Recursive Progression: The recursive calls continue until the base case is reached. During each recursive call, the function breaks down the original problem into smaller subproblems, making progress towards the base case.\n",
    "\n",
    "Recursive functions often involve the concept of \"divide and conquer,\" where a complex problem is divided into simpler subproblems that are solved independently. The results of these subproblems are then combined to obtain the final solution.\n",
    "\n",
    "Here's a simple example of a recursive function in Python to calculate the factorial of a number:\n",
    "\n",
    "```python\n",
    "def factorial(n):\n",
    "    # Base case: factorial of 0 or 1 is 1\n",
    "    if n == 0 or n == 1:\n",
    "        return 1\n",
    "    # Recursive case: factorial of n is n multiplied by factorial of (n-1)\n",
    "    else:\n",
    "        return n * factorial(n - 1)\n",
    "```\n",
    "\n",
    "In this factorial function, the base case is when `n` is 0 or 1, where the function directly returns 1. In the recursive case, the function calls itself with `n-1` and multiplies the current value of `n` with the factorial of `(n-1)`. This process continues until the base case is reached.\n",
    "\n",
    "Recursion can be a powerful technique for solving problems that can be divided into smaller, similar subproblems. However, it's important to ensure that the recursive function converges towards the base case and does not result in infinite recursion. Proper termination conditions and careful design are essential for correct recursive implementations."
   ]
  },
  {
   "cell_type": "markdown",
   "metadata": {},
   "source": [
    "![green-divider](https://user-images.githubusercontent.com/7065401/52071924-c003ad80-2562-11e9-8297-1c6595f8a7ff.png)"
   ]
  },
  {
   "cell_type": "markdown",
   "metadata": {},
   "source": [
    "Input positions of fibonacci positions, give the fibonacci number at that position:\n",
    "\n",
    "1, 1, 2, 3, 5, 8, 13, 21, 34, 55, ..."
   ]
  },
  {
   "cell_type": "code",
   "execution_count": 6,
   "metadata": {},
   "outputs": [],
   "source": [
    "def fibonacci(position):\n",
    "    if position >= 3:\n",
    "        output = fibonacci(position - 1) + fibonacci(position - 2)\n",
    "    else:\n",
    "        output = 1\n",
    "\n",
    "    return output\n",
    "\n",
    "#not efficient"
   ]
  },
  {
   "cell_type": "code",
   "execution_count": 7,
   "metadata": {},
   "outputs": [
    {
     "data": {
      "text/plain": [
       "13"
      ]
     },
     "execution_count": 7,
     "metadata": {},
     "output_type": "execute_result"
    }
   ],
   "source": [
    "fibonacci(7)"
   ]
  },
  {
   "cell_type": "markdown",
   "metadata": {},
   "source": [
    "![green-divider](https://user-images.githubusercontent.com/7065401/52071924-c003ad80-2562-11e9-8297-1c6595f8a7ff.png)"
   ]
  },
  {
   "cell_type": "markdown",
   "metadata": {},
   "source": [
    "Count to the given number using recursion:\n"
   ]
  },
  {
   "cell_type": "code",
   "execution_count": 2,
   "metadata": {},
   "outputs": [],
   "source": [
    "def count_to_num(num):\n",
    "    if num > 0:\n",
    "        count_to_num(num - 1)\n",
    "        print(num)"
   ]
  },
  {
   "cell_type": "code",
   "execution_count": 4,
   "metadata": {},
   "outputs": [
    {
     "name": "stdout",
     "output_type": "stream",
     "text": [
      "1\n",
      "2\n"
     ]
    }
   ],
   "source": [
    "count_to_num(2)"
   ]
  },
  {
   "cell_type": "markdown",
   "metadata": {},
   "source": [
    "1. We call the `count_to_num` function with the argument `2` initially.\n",
    "\n",
    "2. Inside the function, the condition `if num > 0` is evaluated. Since `num` is `2`, the condition is true.\n",
    "\n",
    "3. The function makes a recursive call to `count_to_num(num - 1)` with `num` subtracted by `1`, which is `1`.\n",
    "\n",
    "4. The recursive call enters a new instance of the `count_to_num` function with the argument `1`.\n",
    "\n",
    "5. Again, the condition `if num > 0` is evaluated. It is true since `num` is `1`.\n",
    "\n",
    "6. The function makes another recursive call to `count_to_num(num - 1)` with `num` subtracted by `1`, which is `0`.\n",
    "\n",
    "7. The recursive call enters a new instance of the `count_to_num` function with the argument `0`.\n",
    "\n",
    "8. Now, the condition `if num > 0` is evaluated. Since `num` is `0`, the condition is false, and the recursive calls stop.\n",
    "\n",
    "9. The function execution moves back to the previous instance of `count_to_num` with `num` equal to `1`.\n",
    "\n",
    "10. The function then proceeds to print `num`, which is `1`.\n",
    "\n",
    "11. The execution returns to the initial instance of `count_to_num` with `num` equal to `2`.\n",
    "\n",
    "12. The function then proceeds to print `num`, which is `2`.\n",
    "\n",
    "13. The function execution is complete.\n",
    "\n",
    "In this example, the `count_to_num` function recursively counts down from a given number until it reaches `0`, and then it starts printing the numbers in ascending order as the recursive calls unwind. The output for `count_to_num(2)` would be `1 2`."
   ]
  }
 ],
 "metadata": {
  "kernelspec": {
   "display_name": "env",
   "language": "python",
   "name": "python3"
  },
  "language_info": {
   "codemirror_mode": {
    "name": "ipython",
    "version": 3
   },
   "file_extension": ".py",
   "mimetype": "text/x-python",
   "name": "python",
   "nbconvert_exporter": "python",
   "pygments_lexer": "ipython3",
   "version": "3.10.10"
  },
  "orig_nbformat": 4
 },
 "nbformat": 4,
 "nbformat_minor": 2
}
